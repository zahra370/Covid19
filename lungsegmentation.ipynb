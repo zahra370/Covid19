{
  "cells": [
    {
      "cell_type": "markdown",
      "metadata": {
        "id": "view-in-github",
        "colab_type": "text"
      },
      "source": [
        "<a href=\"https://colab.research.google.com/github/zahra370/Covid19/blob/main/lungsegmentation.ipynb\" target=\"_parent\"><img src=\"https://colab.research.google.com/assets/colab-badge.svg\" alt=\"Open In Colab\"/></a>"
      ]
    },
    {
      "cell_type": "code",
      "execution_count": null,
      "metadata": {
        "colab": {
          "base_uri": "https://localhost:8080/"
        },
        "id": "3a745e54",
        "outputId": "1c986a8f-10f4-4172-cd99-2783e35851af"
      },
      "outputs": [
        {
          "output_type": "stream",
          "name": "stdout",
          "text": [
            "Looking in indexes: https://pypi.org/simple, https://us-python.pkg.dev/colab-wheels/public/simple/\n",
            "Collecting pydicom\n",
            "  Downloading pydicom-2.3.0-py3-none-any.whl (2.0 MB)\n",
            "\u001b[K     |████████████████████████████████| 2.0 MB 7.5 MB/s \n",
            "\u001b[?25hInstalling collected packages: pydicom\n",
            "Successfully installed pydicom-2.3.0\n"
          ]
        }
      ],
      "source": [
        "pip install pydicom"
      ],
      "id": "3a745e54"
    },
    {
      "cell_type": "code",
      "execution_count": null,
      "metadata": {
        "id": "PUz8G5kRCm8r",
        "colab": {
          "base_uri": "https://localhost:8080/"
        },
        "outputId": "f07e424e-3b91-4d67-f5dc-b84d9b827c26"
      },
      "outputs": [
        {
          "output_type": "stream",
          "name": "stdout",
          "text": [
            "Mounted at /content/drive\n"
          ]
        }
      ],
      "source": [
        "from google.colab import drive\n",
        "drive.mount('/content/drive')"
      ],
      "id": "PUz8G5kRCm8r"
    },
    {
      "cell_type": "code",
      "execution_count": null,
      "metadata": {
        "id": "d6b19dc5-95d7-4da5-badb-d2be10a6b7f7"
      },
      "outputs": [],
      "source": [
        "import os\n",
        "import numpy as np\n",
        "import matplotlib.pyplot as plt\n",
        "from pydicom import dcmread\n",
        "import cv2 as ocv\n",
        "import pydicom\n",
        "from sklearn.cluster import KMeans\n",
        "from skimage import measure, morphology\n",
        "from PIL import Image ,ImageFilter, ImageEnhance\n",
        "\n",
        "from ipywidgets import Layout, interact, IntSlider\n",
        "\n",
        "from skimage.segmentation import clear_border\n",
        "################################################\n",
        "from scipy import ndimage as ndi\n",
        "from skimage import morphology\n",
        "from skimage.measure import label, regionprops\n",
        "\n"
      ],
      "id": "d6b19dc5-95d7-4da5-badb-d2be10a6b7f7"
    },
    {
      "cell_type": "code",
      "execution_count": null,
      "metadata": {
        "id": "340cfb12-0bd4-4c8f-88b9-aefb31310319"
      },
      "outputs": [],
      "source": [
        "class scan:\n",
        "    def __init__(self, path):\n",
        "        self.path = path\n",
        "        self.scan_stack = self.__get_stack__()\n",
        "    \n",
        "    def __load_slices__(self):\n",
        "        slices = [pydicom.read_file(self.path + '/' + s) for s in os.listdir(self.path)]\n",
        "        slices.sort(key = lambda x: float(x.ImagePositionPatient[2]),reverse = True)\n",
        "        try:\n",
        "          slice_thickness = np.abs(slices[0].ImagePositionPatient[2] - slices[1].ImagePositionPatient[2])\n",
        "        except:\n",
        "          slice_thickness = np.abs(slices[0].SliceLocation - slices[1].SliceLocation)\n",
        "        \n",
        "        for s in slices:\n",
        "          s.SliceThickness = slice_thickness\n",
        "        \n",
        "        return slices\n",
        "    \n",
        "    def __get_stack__(self):\n",
        "        slices = self.__load_slices__()\n",
        "        img = np.stack([s.pixel_array for s in slices])\n",
        "        img = img.astype(np.int16)\n",
        "        img[img == -2000] = 0\n",
        "        intercept = slices[0].RescaleIntercept\n",
        "        slope = slices[0].RescaleSlope\n",
        "        if slope != 1:\n",
        "            img = slope * img.astype(np.float64)\n",
        "            img = img.astype(np.int16)\n",
        "        img += np.int16(intercept)\n",
        "        return np.array(img, dtype=np.int16)\n",
        "    \n",
        "    def get_mask(self, idx):\n",
        "        img = self.scan_stack[idx]\n",
        "        binary_image = img <= -320 \n",
        "        labels = measure.label(binary_image)\n",
        "        background_label = labels[0,0]\n",
        "        \n",
        "        clear_bw = clear_border(binary_image)\n",
        "        eroded = morphology.erosion(clear_bw,np.ones([3,3]))\n",
        "        dilation = morphology.dilation(clear_bw,np.ones([11,11]))\n",
        "        cleaned = morphology.remove_small_objects(dilation, 200)\n",
        "        # erosion\n",
        " \n",
        "        mask = eroded * img\n",
        "        \n",
        "        return img, binary_image, clear_bw, dilation, cleaned, mask"
      ],
      "id": "340cfb12-0bd4-4c8f-88b9-aefb31310319"
    },
    {
      "cell_type": "code",
      "execution_count": null,
      "metadata": {
        "id": "1b867d5b-cb6a-4212-a6e3-64c6d32e4c22"
      },
      "outputs": [],
      "source": [
        "sample = scan('/content/drive/MyDrive/DICOM')"
      ],
      "id": "1b867d5b-cb6a-4212-a6e3-64c6d32e4c22"
    },
    {
      "cell_type": "code",
      "execution_count": null,
      "metadata": {
        "id": "365a2cbb-59f0-4d1e-b613-e41d369c9b0c",
        "colab": {
          "base_uri": "https://localhost:8080/",
          "height": 783,
          "referenced_widgets": [
            "3a562b368194426b93b6b8b33d1b98dc",
            "e95f64bd75f2445cb2712077a21b3ca6",
            "08d96f84f1a844059bca6192de856237",
            "7916ff966cda4525adb82a549a61e610",
            "195d758c0c01484f827c4c0296d4bb09",
            "9689c8e14876474e957cd5e2c914e8ea",
            "bba821d4c7504aa79e6c3c14d7ac001b"
          ]
        },
        "outputId": "e4595fba-1468-4b31-8ad9-e6d9d1fbd933"
      },
      "outputs": [
        {
          "output_type": "display_data",
          "data": {
            "text/plain": [
              "interactive(children=(IntSlider(value=0, description='x', layout=Layout(width='1500px'), max=587), Output()), …"
            ],
            "application/vnd.jupyter.widget-view+json": {
              "version_major": 2,
              "version_minor": 0,
              "model_id": "3a562b368194426b93b6b8b33d1b98dc"
            }
          },
          "metadata": {}
        },
        {
          "output_type": "execute_result",
          "data": {
            "text/plain": [
              "<function __main__.printer>"
            ]
          },
          "metadata": {},
          "execution_count": 6
        }
      ],
      "source": [
        "def printer(x):\n",
        "    img, binary_image, clear_bw, dilation, cleaned, mask = sample.get_mask(x)\n",
        "    # image = applied_mask.astype(\"uint8\")\n",
        "\n",
        "\n",
        "\n",
        "    ########################################\n",
        "    #  watershed\n",
        "\n",
        "    \n",
        "    from skimage import filters, feature, morphology , segmentation, color\n",
        "    from skimage.color import label2rgb \n",
        "    from scipy.ndimage import distance_transform_edt\n",
        "\n",
        "    simg = np.array(mask, dtype = float) \n",
        "    simg = (simg - simg.min()) / (simg.max() - simg.min()) * 255.0  \n",
        "    simg = simg.astype(np.uint8)\n",
        "\n",
        "\n",
        "\n",
        "    ########################################\n",
        "    # mask = np.array(raw_mask, dtype = float) \n",
        "    # mask= (mask - mask.min()) / (mask.max() - mask.min()) * 255.0  \n",
        "    # mask = mask.astype(np.uint8)\n",
        "    from skimage.segmentation import clear_border\n",
        "    # clahe = ocv.createCLAHE(clipLimit =3.0, tileGridSize = (4,4))\n",
        "    # cl_img = clahe.apply(simg)\n",
        "\n",
        "    equ = ocv.equalizeHist(simg)\n",
        "\n",
        "    # final = 255 - equ \n",
        "    # bw = equ > np.mean(equ)\n",
        "\n",
        "    ret, thresh_bw = ocv.threshold(equ,np.mean(equ),255,ocv.THRESH_BINARY_INV + ocv.THRESH_OTSU)\n",
        "    #  dilation \n",
        "    kernel = np.ones((3,3),np.uint8)\n",
        "    dil = ocv.dilate(thresh_bw,kernel,iterations=1)\n",
        "    label_image = label(simg)\n",
        "\n",
        "\n",
        "\n",
        "    \n",
        "    # mask = np.sum(cleaned == 255)\n",
        "    # inf_pix_count = np.sum(thresh_bw == 255)\n",
        "    # print('infected pixels',inf_pix_count)\n",
        "\n",
        "    m_img = np.array(cleaned, dtype = float) \n",
        "    m_img = (m_img - m_img.min()) / (m_img.max() - m_img.min()) * 255.0  \n",
        "    m_img = m_img.astype(np.uint8)\n",
        "\n",
        "    covid_img = m_img - dil\n",
        "    k = np.ones((3,3),np.uint8)\n",
        "\n",
        "\n",
        "  \n",
        "\n",
        "\n",
        "    # white_px = np.sum(m_img == 255 )\n",
        "    # infected_px = np.sum(dil == 255)\n",
        "\n",
        "    # print('white mask  pixels',white_px)\n",
        "    # print('white infected  pixels',infected_px)\n",
        "\n",
        "\n",
        "    #     # applying countour detection\n",
        "\n",
        "    # covid = white_px - infected_px\n",
        "    # print('covid detected',covid )\n",
        "\n",
        "    # per_covid = (covid / white_px) * 100\n",
        "    # print('percentage of covid detectin',per_covid)\n",
        "    # if per_covid <25:\n",
        "    #   print('NORMAL')\n",
        "    # else:\n",
        "    #   print('COVID')\n",
        "\n",
        "\n",
        "\n",
        "    \n",
        "        # applying countour detection\n",
        "    # infected_pixels = number_of_white_pix = np.sum(dil == 255)\n",
        "    # mask_pixels = number_of_white_pix = np.sum(bin_mask == 255)\n",
        "    # print('infect pixels', infected_pixels)\n",
        "    # print('mask pixels', mask_pixels)\n",
        "    # covid = mask_pixels - infected_pixels\n",
        "    # print('covid detected',covid )\n",
        "\n",
        "    # per_covid = (covid/mask_pixels)*100\n",
        "    # print('percentage of covid detectin',per_covid)\n",
        "    # if per_covid <25:\n",
        "    #   print('NORMAL')\n",
        "    # else:\n",
        "    #   print('COVID')\n",
        "\n",
        "\n",
        "\n",
        "\n",
        "    fig, ax = plt.subplots(3, 3, figsize=[12, 12])\n",
        "    ax[0, 0].set_title(\"Original\")\n",
        "    ax[0, 0].imshow(img, cmap='gray')\n",
        "    ax[0, 0].axis('off')\n",
        "    ax[0, 1].set_title(\"Threshold\")\n",
        "    ax[0, 1].imshow(binary_image, cmap='gray')\n",
        "    ax[0, 1].axis('off')\n",
        "    ax[0, 2].set_title(\"clear border\")\n",
        "    ax[0, 2].imshow(clear_bw, cmap='gray')\n",
        "    ax[0, 2].axis('off')\n",
        "    ax[1, 0].set_title(\" after dilation and removing small holes\")\n",
        "    ax[1, 0].imshow(cleaned,cmap='gray')\n",
        "    ax[1, 0].axis('off')\n",
        "    ax[1, 1].set_title(\"mask\")\n",
        "    ax[1, 1].imshow(mask, cmap='gray')\n",
        "\n",
        "    ax[1, 1].axis('off')\n",
        "    ax[1, 2].set_title(\"histogram equalization\")\n",
        "    ax[1, 2].imshow(equ, cmap='gray')\n",
        "\n",
        "\n",
        "    ax[1, 2].axis('off')\n",
        "    ax[2, 0].set_title(\"fill\")\n",
        "    ax[2, 0].imshow(dil, cmap = 'gray')\n",
        "\n",
        "    ax[2, 0].axis('off')\n",
        "    ax[2, 1].set_title(\"infected area\")\n",
        "    ax[2, 1].imshow(covid_img, cmap='gray')\n",
        "\n",
        "    # ax[2, 1].axis('off')\n",
        "    # ax[2, 2].set_title(\"unknown\")\n",
        "    # ax[2, 2].imshow(unknown, cmap='gray')\n",
        "    \n",
        "\n",
        "    plt.show()\n",
        "interact(printer, x=IntSlider(0, 0, len(sample.scan_stack)-1, 1, layout=Layout(width='1500px')))"
      ],
      "id": "365a2cbb-59f0-4d1e-b613-e41d369c9b0c"
    },
    {
      "cell_type": "code",
      "execution_count": null,
      "metadata": {
        "id": "9f905edf"
      },
      "outputs": [],
      "source": [
        "#  libraries for convolutional neural networks \n",
        "\n",
        "from keras.layers "
      ],
      "id": "9f905edf"
    },
    {
      "cell_type": "code",
      "source": [
        ""
      ],
      "metadata": {
        "id": "FqBrqQaq_xJa"
      },
      "id": "FqBrqQaq_xJa",
      "execution_count": null,
      "outputs": []
    }
  ],
  "metadata": {
    "colab": {
      "name": "watershed.ipynb",
      "provenance": [],
      "collapsed_sections": [],
      "include_colab_link": true
    },
    "kernelspec": {
      "display_name": "Python 3 (ipykernel)",
      "language": "python",
      "name": "python3"
    },
    "language_info": {
      "codemirror_mode": {
        "name": "ipython",
        "version": 3
      },
      "file_extension": ".py",
      "mimetype": "text/x-python",
      "name": "python",
      "nbconvert_exporter": "python",
      "pygments_lexer": "ipython3",
      "version": "3.9.7"
    },
    "widgets": {
      "application/vnd.jupyter.widget-state+json": {
        "3a562b368194426b93b6b8b33d1b98dc": {
          "model_module": "@jupyter-widgets/controls",
          "model_name": "VBoxModel",
          "model_module_version": "1.5.0",
          "state": {
            "_dom_classes": [
              "widget-interact"
            ],
            "_model_module": "@jupyter-widgets/controls",
            "_model_module_version": "1.5.0",
            "_model_name": "VBoxModel",
            "_view_count": null,
            "_view_module": "@jupyter-widgets/controls",
            "_view_module_version": "1.5.0",
            "_view_name": "VBoxView",
            "box_style": "",
            "children": [
              "IPY_MODEL_e95f64bd75f2445cb2712077a21b3ca6",
              "IPY_MODEL_08d96f84f1a844059bca6192de856237"
            ],
            "layout": "IPY_MODEL_7916ff966cda4525adb82a549a61e610"
          }
        },
        "e95f64bd75f2445cb2712077a21b3ca6": {
          "model_module": "@jupyter-widgets/controls",
          "model_name": "IntSliderModel",
          "model_module_version": "1.5.0",
          "state": {
            "_dom_classes": [],
            "_model_module": "@jupyter-widgets/controls",
            "_model_module_version": "1.5.0",
            "_model_name": "IntSliderModel",
            "_view_count": null,
            "_view_module": "@jupyter-widgets/controls",
            "_view_module_version": "1.5.0",
            "_view_name": "IntSliderView",
            "continuous_update": true,
            "description": "x",
            "description_tooltip": null,
            "disabled": false,
            "layout": "IPY_MODEL_195d758c0c01484f827c4c0296d4bb09",
            "max": 587,
            "min": 0,
            "orientation": "horizontal",
            "readout": true,
            "readout_format": "d",
            "step": 1,
            "style": "IPY_MODEL_9689c8e14876474e957cd5e2c914e8ea",
            "value": 0
          }
        },
        "08d96f84f1a844059bca6192de856237": {
          "model_module": "@jupyter-widgets/output",
          "model_name": "OutputModel",
          "model_module_version": "1.0.0",
          "state": {
            "_dom_classes": [],
            "_model_module": "@jupyter-widgets/output",
            "_model_module_version": "1.0.0",
            "_model_name": "OutputModel",
            "_view_count": null,
            "_view_module": "@jupyter-widgets/output",
            "_view_module_version": "1.0.0",
            "_view_name": "OutputView",
            "layout": "IPY_MODEL_bba821d4c7504aa79e6c3c14d7ac001b",
            "msg_id": "",
            "outputs": [
              {
                "output_type": "display_data",
                "data": {
                  "text/plain": "<Figure size 864x864 with 9 Axes>",
                  "image/png": "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\n"
                },
                "metadata": {
                  "needs_background": "light"
                }
              }
            ]
          }
        },
        "7916ff966cda4525adb82a549a61e610": {
          "model_module": "@jupyter-widgets/base",
          "model_name": "LayoutModel",
          "model_module_version": "1.2.0",
          "state": {
            "_model_module": "@jupyter-widgets/base",
            "_model_module_version": "1.2.0",
            "_model_name": "LayoutModel",
            "_view_count": null,
            "_view_module": "@jupyter-widgets/base",
            "_view_module_version": "1.2.0",
            "_view_name": "LayoutView",
            "align_content": null,
            "align_items": null,
            "align_self": null,
            "border": null,
            "bottom": null,
            "display": null,
            "flex": null,
            "flex_flow": null,
            "grid_area": null,
            "grid_auto_columns": null,
            "grid_auto_flow": null,
            "grid_auto_rows": null,
            "grid_column": null,
            "grid_gap": null,
            "grid_row": null,
            "grid_template_areas": null,
            "grid_template_columns": null,
            "grid_template_rows": null,
            "height": null,
            "justify_content": null,
            "justify_items": null,
            "left": null,
            "margin": null,
            "max_height": null,
            "max_width": null,
            "min_height": null,
            "min_width": null,
            "object_fit": null,
            "object_position": null,
            "order": null,
            "overflow": null,
            "overflow_x": null,
            "overflow_y": null,
            "padding": null,
            "right": null,
            "top": null,
            "visibility": null,
            "width": null
          }
        },
        "195d758c0c01484f827c4c0296d4bb09": {
          "model_module": "@jupyter-widgets/base",
          "model_name": "LayoutModel",
          "model_module_version": "1.2.0",
          "state": {
            "_model_module": "@jupyter-widgets/base",
            "_model_module_version": "1.2.0",
            "_model_name": "LayoutModel",
            "_view_count": null,
            "_view_module": "@jupyter-widgets/base",
            "_view_module_version": "1.2.0",
            "_view_name": "LayoutView",
            "align_content": null,
            "align_items": null,
            "align_self": null,
            "border": null,
            "bottom": null,
            "display": null,
            "flex": null,
            "flex_flow": null,
            "grid_area": null,
            "grid_auto_columns": null,
            "grid_auto_flow": null,
            "grid_auto_rows": null,
            "grid_column": null,
            "grid_gap": null,
            "grid_row": null,
            "grid_template_areas": null,
            "grid_template_columns": null,
            "grid_template_rows": null,
            "height": null,
            "justify_content": null,
            "justify_items": null,
            "left": null,
            "margin": null,
            "max_height": null,
            "max_width": null,
            "min_height": null,
            "min_width": null,
            "object_fit": null,
            "object_position": null,
            "order": null,
            "overflow": null,
            "overflow_x": null,
            "overflow_y": null,
            "padding": null,
            "right": null,
            "top": null,
            "visibility": null,
            "width": "1500px"
          }
        },
        "9689c8e14876474e957cd5e2c914e8ea": {
          "model_module": "@jupyter-widgets/controls",
          "model_name": "SliderStyleModel",
          "model_module_version": "1.5.0",
          "state": {
            "_model_module": "@jupyter-widgets/controls",
            "_model_module_version": "1.5.0",
            "_model_name": "SliderStyleModel",
            "_view_count": null,
            "_view_module": "@jupyter-widgets/base",
            "_view_module_version": "1.2.0",
            "_view_name": "StyleView",
            "description_width": "",
            "handle_color": null
          }
        },
        "bba821d4c7504aa79e6c3c14d7ac001b": {
          "model_module": "@jupyter-widgets/base",
          "model_name": "LayoutModel",
          "model_module_version": "1.2.0",
          "state": {
            "_model_module": "@jupyter-widgets/base",
            "_model_module_version": "1.2.0",
            "_model_name": "LayoutModel",
            "_view_count": null,
            "_view_module": "@jupyter-widgets/base",
            "_view_module_version": "1.2.0",
            "_view_name": "LayoutView",
            "align_content": null,
            "align_items": null,
            "align_self": null,
            "border": null,
            "bottom": null,
            "display": null,
            "flex": null,
            "flex_flow": null,
            "grid_area": null,
            "grid_auto_columns": null,
            "grid_auto_flow": null,
            "grid_auto_rows": null,
            "grid_column": null,
            "grid_gap": null,
            "grid_row": null,
            "grid_template_areas": null,
            "grid_template_columns": null,
            "grid_template_rows": null,
            "height": null,
            "justify_content": null,
            "justify_items": null,
            "left": null,
            "margin": null,
            "max_height": null,
            "max_width": null,
            "min_height": null,
            "min_width": null,
            "object_fit": null,
            "object_position": null,
            "order": null,
            "overflow": null,
            "overflow_x": null,
            "overflow_y": null,
            "padding": null,
            "right": null,
            "top": null,
            "visibility": null,
            "width": null
          }
        }
      }
    }
  },
  "nbformat": 4,
  "nbformat_minor": 5
}